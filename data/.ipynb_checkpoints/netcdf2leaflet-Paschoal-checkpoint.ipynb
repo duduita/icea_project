{
 "cells": [
  {
   "cell_type": "code",
   "execution_count": 1,
   "metadata": {},
   "outputs": [],
   "source": [
    "from netCDF4 import Dataset, num2date\n",
    "import numpy as np\n",
    "import json"
   ]
  },
  {
   "cell_type": "code",
   "execution_count": 3,
   "metadata": {},
   "outputs": [],
   "source": [
    "# importa o Dataset\n",
    "dataset = Dataset('modelo_paulo.nc')"
   ]
  },
  {
   "cell_type": "code",
   "execution_count": 4,
   "metadata": {},
   "outputs": [
    {
     "name": "stdout",
     "output_type": "stream",
     "text": [
      "<class 'netCDF4._netCDF4.Dataset'>\n",
      "root group (NETCDF3_64BIT_OFFSET data model, file format NETCDF3):\n",
      "    TITLE:  OUTPUT FROM WRF V4.1.2 MODEL\n",
      "    START_DATE: 2020-10-13_12:00:00\n",
      "    SIMULATION_START_DATE: 2020-10-13_12:00:00\n",
      "    WEST-EAST_GRID_DIMENSION: 130\n",
      "    SOUTH-NORTH_GRID_DIMENSION: 140\n",
      "    BOTTOM-TOP_GRID_DIMENSION: 45\n",
      "    DX: 18000.0\n",
      "    DY: 18000.0\n",
      "    AERCU_OPT: 0\n",
      "    AERCU_FCT: 1.0\n",
      "    IDEAL_CASE: 0\n",
      "    DIFF_6TH_SLOPEOPT: 0\n",
      "    AUTO_LEVELS_OPT: 2\n",
      "    DIFF_6TH_THRESH: 0.1\n",
      "    DZBOT: 50.0\n",
      "    DZSTRETCH_S: 1.3\n",
      "    DZSTRETCH_U: 1.1\n",
      "    SKEBS_ON: 0\n",
      "    SPEC_BDY_FINAL_MU: 1\n",
      "    USE_Q_DIABATIC: 0\n",
      "    GRIDTYPE: C\n",
      "    DIFF_OPT: 1\n",
      "    KM_OPT: 4\n",
      "    DAMP_OPT: 0\n",
      "    DAMPCOEF: 0.2\n",
      "    KHDIF: 0.0\n",
      "    KVDIF: 0.0\n",
      "    MP_PHYSICS: 10\n",
      "    RA_LW_PHYSICS: 5\n",
      "    RA_SW_PHYSICS: 5\n",
      "    SF_SFCLAY_PHYSICS: 1\n",
      "    SF_SURFACE_PHYSICS: 2\n",
      "    BL_PBL_PHYSICS: 1\n",
      "    CU_PHYSICS: 3\n",
      "    SF_LAKE_PHYSICS: 0\n",
      "    SURFACE_INPUT_SOURCE: 1\n",
      "    SST_UPDATE: 0\n",
      "    GRID_FDDA: 0\n",
      "    GFDDA_INTERVAL_M: 0\n",
      "    GFDDA_END_H: 0\n",
      "    GRID_SFDDA: 0\n",
      "    SGFDDA_INTERVAL_M: 0\n",
      "    SGFDDA_END_H: 0\n",
      "    HYPSOMETRIC_OPT: 2\n",
      "    USE_THETA_M: 0\n",
      "    GWD_OPT: 0\n",
      "    SF_URBAN_PHYSICS: 0\n",
      "    SF_SURFACE_MOSAIC: 0\n",
      "    SF_OCEAN_PHYSICS: 0\n",
      "    SHCU_PHYSICS: 0\n",
      "    MFSHCONV: 0\n",
      "    FEEDBACK: 1\n",
      "    SMOOTH_OPTION: 0\n",
      "    SWRAD_SCAT: 1.0\n",
      "    W_DAMPING: 0\n",
      "    DT: 90.0\n",
      "    RADT: 30.0\n",
      "    BLDT: 0.0\n",
      "    CUDT: 5.0\n",
      "    AER_OPT: 0\n",
      "    SWINT_OPT: 0\n",
      "    AER_TYPE: 1\n",
      "    AER_AOD550_OPT: 1\n",
      "    AER_ANGEXP_OPT: 1\n",
      "    AER_SSA_OPT: 1\n",
      "    AER_ASY_OPT: 1\n",
      "    AER_AOD550_VAL: 0.12\n",
      "    AER_ANGEXP_VAL: 1.3\n",
      "    AER_SSA_VAL: 0.85\n",
      "    AER_ASY_VAL: 0.9\n",
      "    MOIST_ADV_OPT: 1\n",
      "    SCALAR_ADV_OPT: 1\n",
      "    TKE_ADV_OPT: 1\n",
      "    DIFF_6TH_OPT: 0\n",
      "    DIFF_6TH_FACTOR: 0.12\n",
      "    OBS_NUDGE_OPT: 0\n",
      "    BUCKET_MM: -1.0\n",
      "    BUCKET_J: -1.0\n",
      "    PREC_ACC_DT: 0.0\n",
      "    ISFTCFLX: 0\n",
      "    ISHALLOW: 0\n",
      "    ISFFLX: 1\n",
      "    ICLOUD: 1\n",
      "    ICLOUD_CU: 0\n",
      "    TRACER_PBLMIX: 1\n",
      "    SCALAR_PBLMIX: 0\n",
      "    YSU_TOPDOWN_PBLMIX: 0\n",
      "    GRAV_SETTLING: 0\n",
      "    DFI_OPT: 0\n",
      "    SIMULATION_INITIALIZATION_TYPE: REAL-DATA CASE\n",
      "    WEST-EAST_PATCH_START_UNSTAG: 1\n",
      "    WEST-EAST_PATCH_END_UNSTAG: 129\n",
      "    WEST-EAST_PATCH_START_STAG: 1\n",
      "    WEST-EAST_PATCH_END_STAG: 130\n",
      "    SOUTH-NORTH_PATCH_START_UNSTAG: 1\n",
      "    SOUTH-NORTH_PATCH_END_UNSTAG: 139\n",
      "    SOUTH-NORTH_PATCH_START_STAG: 1\n",
      "    SOUTH-NORTH_PATCH_END_STAG: 140\n",
      "    BOTTOM-TOP_PATCH_START_UNSTAG: 1\n",
      "    BOTTOM-TOP_PATCH_END_UNSTAG: 44\n",
      "    BOTTOM-TOP_PATCH_START_STAG: 1\n",
      "    BOTTOM-TOP_PATCH_END_STAG: 45\n",
      "    GRID_ID: 1\n",
      "    PARENT_ID: 1\n",
      "    I_PARENT_START: 1\n",
      "    J_PARENT_START: 1\n",
      "    PARENT_GRID_RATIO: 1\n",
      "    CEN_LAT: -25.01001\n",
      "    CEN_LON: -49.17\n",
      "    TRUELAT1: 0.0\n",
      "    TRUELAT2: 0.0\n",
      "    MOAD_CEN_LAT: -25.01001\n",
      "    STAND_LON: -49.17\n",
      "    POLE_LAT: 90.0\n",
      "    POLE_LON: 0.0\n",
      "    GMT: 12.0\n",
      "    JULYR: 2020\n",
      "    JULDAY: 287\n",
      "    MAP_PROJ: 3\n",
      "    MAP_PROJ_CHAR: Mercator\n",
      "    MMINLU: MODIFIED_IGBP_MODIS_NOAH\n",
      "    NUM_LAND_CAT: 21\n",
      "    ISWATER: 17\n",
      "    ISLAKE: 21\n",
      "    ISICE: 15\n",
      "    ISURBAN: 13\n",
      "    ISOILWATER: 14\n",
      "    HYBRID_OPT: 2\n",
      "    ETAC: 0.2\n",
      "    dimensions(sizes): Time(34), DateStrLen(19), west_east(129), south_north(139), bottom_top(44), bottom_top_stag(45), soil_layers_stag(4), west_east_stag(130), south_north_stag(140), seed_dim_stag(33)\n",
      "    variables(dimensions): |S1 Times(Time, DateStrLen), float32 XLAT(Time, south_north, west_east), float32 XLONG(Time, south_north, west_east), float32 LU_INDEX(Time, south_north, west_east), float32 ZNU(Time, bottom_top), float32 ZNW(Time, bottom_top_stag), float32 ZS(Time, soil_layers_stag), float32 DZS(Time, soil_layers_stag), float32 VAR_SSO(Time, south_north, west_east), float32 U(Time, bottom_top, south_north, west_east_stag), float32 V(Time, bottom_top, south_north_stag, west_east), float32 W(Time, bottom_top_stag, south_north, west_east), float32 PH(Time, bottom_top_stag, south_north, west_east), float32 PHB(Time, bottom_top_stag, south_north, west_east), float32 T(Time, bottom_top, south_north, west_east), float32 THM(Time, bottom_top, south_north, west_east), float32 HFX_FORCE(Time), float32 LH_FORCE(Time), float32 TSK_FORCE(Time), float32 HFX_FORCE_TEND(Time), float32 LH_FORCE_TEND(Time), float32 TSK_FORCE_TEND(Time), float32 MU(Time, south_north, west_east), float32 MUB(Time, south_north, west_east), float32 NEST_POS(Time, south_north, west_east), float32 P(Time, bottom_top, south_north, west_east), float32 PB(Time, bottom_top, south_north, west_east), float32 FNM(Time, bottom_top), float32 FNP(Time, bottom_top), float32 RDNW(Time, bottom_top), float32 RDN(Time, bottom_top), float32 DNW(Time, bottom_top), float32 DN(Time, bottom_top), float32 CFN(Time), float32 CFN1(Time), int32 THIS_IS_AN_IDEAL_RUN(Time), float32 P_HYD(Time, bottom_top, south_north, west_east), float32 Q2(Time, south_north, west_east), float32 T2(Time, south_north, west_east), float32 TH2(Time, south_north, west_east), float32 PSFC(Time, south_north, west_east), float32 U10(Time, south_north, west_east), float32 V10(Time, south_north, west_east), float32 RDX(Time), float32 RDY(Time), float32 RESM(Time), float32 ZETATOP(Time), float32 CF1(Time), float32 CF2(Time), float32 CF3(Time), int32 ITIMESTEP(Time), float32 XTIME(Time), float32 QVAPOR(Time, bottom_top, south_north, west_east), float32 QCLOUD(Time, bottom_top, south_north, west_east), float32 QRAIN(Time, bottom_top, south_north, west_east), float32 QICE(Time, bottom_top, south_north, west_east), float32 QSNOW(Time, bottom_top, south_north, west_east), float32 QGRAUP(Time, bottom_top, south_north, west_east), float32 RE_CLOUD_GSFC(Time, bottom_top, south_north, west_east), float32 RE_RAIN_GSFC(Time, bottom_top, south_north, west_east), float32 RE_ICE_GSFC(Time, bottom_top, south_north, west_east), float32 RE_SNOW_GSFC(Time, bottom_top, south_north, west_east), float32 RE_GRAUPEL_GSFC(Time, bottom_top, south_north, west_east), float32 RE_HAIL_GSFC(Time, bottom_top, south_north, west_east), float32 QNICE(Time, bottom_top, south_north, west_east), float32 QNSNOW(Time, bottom_top, south_north, west_east), float32 QNRAIN(Time, bottom_top, south_north, west_east), float32 QNGRAUPEL(Time, bottom_top, south_north, west_east), float32 SHDMAX(Time, south_north, west_east), float32 SHDMIN(Time, south_north, west_east), float32 SNOALB(Time, south_north, west_east), float32 TSLB(Time, soil_layers_stag, south_north, west_east), float32 SMOIS(Time, soil_layers_stag, south_north, west_east), float32 SH2O(Time, soil_layers_stag, south_north, west_east), float32 SMCREL(Time, soil_layers_stag, south_north, west_east), float32 SEAICE(Time, south_north, west_east), float32 XICEM(Time, south_north, west_east), float32 SFROFF(Time, south_north, west_east), float32 UDROFF(Time, south_north, west_east), int32 IVGTYP(Time, south_north, west_east), int32 ISLTYP(Time, south_north, west_east), float32 VEGFRA(Time, south_north, west_east), float32 GRDFLX(Time, south_north, west_east), float32 ACGRDFLX(Time, south_north, west_east), float32 ACSNOM(Time, south_north, west_east), float32 SNOW(Time, south_north, west_east), float32 SNOWH(Time, south_north, west_east), float32 CANWAT(Time, south_north, west_east), float32 SSTSK(Time, south_north, west_east), float32 COSZEN(Time, south_north, west_east), float32 LAI(Time, south_north, west_east), float32 VAR(Time, south_north, west_east), float32 MAPFAC_M(Time, south_north, west_east), float32 MAPFAC_U(Time, south_north, west_east_stag), float32 MAPFAC_V(Time, south_north_stag, west_east), float32 MAPFAC_MX(Time, south_north, west_east), float32 MAPFAC_MY(Time, south_north, west_east), float32 MAPFAC_UX(Time, south_north, west_east_stag), float32 MAPFAC_UY(Time, south_north, west_east_stag), float32 MAPFAC_VX(Time, south_north_stag, west_east), float32 MF_VX_INV(Time, south_north_stag, west_east), float32 MAPFAC_VY(Time, south_north_stag, west_east), float32 F(Time, south_north, west_east), float32 E(Time, south_north, west_east), float32 SINALPHA(Time, south_north, west_east), float32 COSALPHA(Time, south_north, west_east), float32 HGT(Time, south_north, west_east), float32 TSK(Time, south_north, west_east), float32 P_TOP(Time), float32 T00(Time), float32 P00(Time), float32 TLP(Time), float32 TISO(Time), float32 TLP_STRAT(Time), float32 P_STRAT(Time), float32 MAX_MSTFX(Time), float32 MAX_MSTFY(Time), float32 TLWDN(Time, south_north, west_east), float32 TLWUP(Time, south_north, west_east), float32 SLWDN(Time, south_north, west_east), float32 SLWUP(Time, south_north, west_east), float32 TSWDN(Time, south_north, west_east), float32 TSWUP(Time, south_north, west_east), float32 SSWDN(Time, south_north, west_east), float32 SSWUP(Time, south_north, west_east), float32 COD2D_OUT(Time, south_north, west_east), float32 CTOP2D_OUT(Time, south_north, west_east), float32 RAINC(Time, south_north, west_east), float32 RAINSH(Time, south_north, west_east), float32 RAINNC(Time, south_north, west_east), float32 SNOWNC(Time, south_north, west_east), float32 GRAUPELNC(Time, south_north, west_east), float32 HAILNC(Time, south_north, west_east), float32 CLDFRA(Time, bottom_top, south_north, west_east), float32 SWDOWN(Time, south_north, west_east), float32 GLW(Time, south_north, west_east), float32 SWNORM(Time, south_north, west_east), float32 OLR(Time, south_north, west_east), float32 XLAT_U(Time, south_north, west_east_stag), float32 XLONG_U(Time, south_north, west_east_stag), float32 XLAT_V(Time, south_north_stag, west_east), float32 XLONG_V(Time, south_north_stag, west_east), float32 ALBEDO(Time, south_north, west_east), float32 CLAT(Time, south_north, west_east), float32 ALBBCK(Time, south_north, west_east), float32 EMISS(Time, south_north, west_east), float32 NOAHRES(Time, south_north, west_east), float32 TMN(Time, south_north, west_east), float32 XLAND(Time, south_north, west_east), float32 UST(Time, south_north, west_east), float32 PBLH(Time, south_north, west_east), float32 HFX(Time, south_north, west_east), float32 QFX(Time, south_north, west_east), float32 LH(Time, south_north, west_east), float32 ACHFX(Time, south_north, west_east), float32 ACLHF(Time, south_north, west_east), float32 SNOWC(Time, south_north, west_east), float32 SR(Time, south_north, west_east), int32 SAVE_TOPO_FROM_REAL(Time), int32 ISEEDARR_SPPT(Time, seed_dim_stag), int32 ISEEDARR_SKEBS(Time, seed_dim_stag), int32 ISEEDARR_RAND_PERTURB(Time, seed_dim_stag), int32 ISEEDARRAY_SPP_CONV(Time, seed_dim_stag), int32 ISEEDARRAY_SPP_PBL(Time, seed_dim_stag), int32 ISEEDARRAY_SPP_LSM(Time, seed_dim_stag), float32 C1H(Time, bottom_top), float32 C2H(Time, bottom_top), float32 C1F(Time, bottom_top_stag), float32 C2F(Time, bottom_top_stag), float32 C3H(Time, bottom_top), float32 C4H(Time, bottom_top), float32 C3F(Time, bottom_top_stag), float32 C4F(Time, bottom_top_stag), float32 PCB(Time, south_north, west_east), float32 PC(Time, south_north, west_east), float32 LANDMASK(Time, south_north, west_east), float32 LAKEMASK(Time, south_north, west_east), float32 SST(Time, south_north, west_east), float32 SST_INPUT(Time, south_north, west_east)\n",
      "    groups: \n"
     ]
    }
   ],
   "source": [
    "# informacoes sobre o Dataset\n",
    "print(dataset)"
   ]
  },
  {
   "cell_type": "code",
   "execution_count": 5,
   "metadata": {},
   "outputs": [
    {
     "name": "stdout",
     "output_type": "stream",
     "text": [
      "dict_keys(['Time', 'DateStrLen', 'west_east', 'south_north', 'bottom_top', 'bottom_top_stag', 'soil_layers_stag', 'west_east_stag', 'south_north_stag', 'seed_dim_stag'])\n"
     ]
    }
   ],
   "source": [
    "# obtem as dimensions disponiveis\n",
    "print(dataset.dimensions.keys())"
   ]
  },
  {
   "cell_type": "code",
   "execution_count": 6,
   "metadata": {},
   "outputs": [
    {
     "name": "stdout",
     "output_type": "stream",
     "text": [
      "dict_keys(['Times', 'XLAT', 'XLONG', 'LU_INDEX', 'ZNU', 'ZNW', 'ZS', 'DZS', 'VAR_SSO', 'U', 'V', 'W', 'PH', 'PHB', 'T', 'THM', 'HFX_FORCE', 'LH_FORCE', 'TSK_FORCE', 'HFX_FORCE_TEND', 'LH_FORCE_TEND', 'TSK_FORCE_TEND', 'MU', 'MUB', 'NEST_POS', 'P', 'PB', 'FNM', 'FNP', 'RDNW', 'RDN', 'DNW', 'DN', 'CFN', 'CFN1', 'THIS_IS_AN_IDEAL_RUN', 'P_HYD', 'Q2', 'T2', 'TH2', 'PSFC', 'U10', 'V10', 'RDX', 'RDY', 'RESM', 'ZETATOP', 'CF1', 'CF2', 'CF3', 'ITIMESTEP', 'XTIME', 'QVAPOR', 'QCLOUD', 'QRAIN', 'QICE', 'QSNOW', 'QGRAUP', 'RE_CLOUD_GSFC', 'RE_RAIN_GSFC', 'RE_ICE_GSFC', 'RE_SNOW_GSFC', 'RE_GRAUPEL_GSFC', 'RE_HAIL_GSFC', 'QNICE', 'QNSNOW', 'QNRAIN', 'QNGRAUPEL', 'SHDMAX', 'SHDMIN', 'SNOALB', 'TSLB', 'SMOIS', 'SH2O', 'SMCREL', 'SEAICE', 'XICEM', 'SFROFF', 'UDROFF', 'IVGTYP', 'ISLTYP', 'VEGFRA', 'GRDFLX', 'ACGRDFLX', 'ACSNOM', 'SNOW', 'SNOWH', 'CANWAT', 'SSTSK', 'COSZEN', 'LAI', 'VAR', 'MAPFAC_M', 'MAPFAC_U', 'MAPFAC_V', 'MAPFAC_MX', 'MAPFAC_MY', 'MAPFAC_UX', 'MAPFAC_UY', 'MAPFAC_VX', 'MF_VX_INV', 'MAPFAC_VY', 'F', 'E', 'SINALPHA', 'COSALPHA', 'HGT', 'TSK', 'P_TOP', 'T00', 'P00', 'TLP', 'TISO', 'TLP_STRAT', 'P_STRAT', 'MAX_MSTFX', 'MAX_MSTFY', 'TLWDN', 'TLWUP', 'SLWDN', 'SLWUP', 'TSWDN', 'TSWUP', 'SSWDN', 'SSWUP', 'COD2D_OUT', 'CTOP2D_OUT', 'RAINC', 'RAINSH', 'RAINNC', 'SNOWNC', 'GRAUPELNC', 'HAILNC', 'CLDFRA', 'SWDOWN', 'GLW', 'SWNORM', 'OLR', 'XLAT_U', 'XLONG_U', 'XLAT_V', 'XLONG_V', 'ALBEDO', 'CLAT', 'ALBBCK', 'EMISS', 'NOAHRES', 'TMN', 'XLAND', 'UST', 'PBLH', 'HFX', 'QFX', 'LH', 'ACHFX', 'ACLHF', 'SNOWC', 'SR', 'SAVE_TOPO_FROM_REAL', 'ISEEDARR_SPPT', 'ISEEDARR_SKEBS', 'ISEEDARR_RAND_PERTURB', 'ISEEDARRAY_SPP_CONV', 'ISEEDARRAY_SPP_PBL', 'ISEEDARRAY_SPP_LSM', 'C1H', 'C2H', 'C1F', 'C2F', 'C3H', 'C4H', 'C3F', 'C4F', 'PCB', 'PC', 'LANDMASK', 'LAKEMASK', 'SST', 'SST_INPUT'])\n"
     ]
    }
   ],
   "source": [
    "# obtem as variaveis disponiveis\n",
    "print(dataset.variables.keys())"
   ]
  },
  {
   "cell_type": "code",
   "execution_count": 7,
   "metadata": {},
   "outputs": [
    {
     "name": "stdout",
     "output_type": "stream",
     "text": [
      "<class 'netCDF4._netCDF4.Variable'>\n",
      "float32 T(Time, bottom_top, south_north, west_east)\n",
      "    FieldType: 104\n",
      "    MemoryOrder: XYZ\n",
      "    description: perturbation potential temperature theta-t0\n",
      "    units: K\n",
      "    stagger: \n",
      "    coordinates: XLONG XLAT XTIME\n",
      "unlimited dimensions: Time\n",
      "current shape = (34, 44, 139, 129)\n",
      "filling on, default _FillValue of 9.969209968386869e+36 used\n"
     ]
    }
   ],
   "source": [
    "# informacoes das variaveis U10 e V10 (para calculo da direcao do vento)\n",
    "print(dataset.variables['T'])"
   ]
  },
  {
   "cell_type": "code",
   "execution_count": 7,
   "metadata": {},
   "outputs": [
    {
     "name": "stdout",
     "output_type": "stream",
     "text": [
      "<class 'netCDF4._netCDF4.Variable'>\n",
      "float32 V10(Time, south_north, west_east)\n",
      "    FieldType: 104\n",
      "    MemoryOrder: XY \n",
      "    description: V at 10 M\n",
      "    units: m s-1\n",
      "    stagger: \n",
      "    coordinates: XLONG XLAT XTIME\n",
      "unlimited dimensions: Time\n",
      "current shape = (34, 139, 129)\n",
      "filling on, default _FillValue of 9.969209968386869e+36 used\n"
     ]
    }
   ],
   "source": [
    "print(dataset.variables['V10'])"
   ]
  },
  {
   "cell_type": "code",
   "execution_count": 17,
   "metadata": {},
   "outputs": [],
   "source": [
    "# obtem os pontos das componentes U e V, e as coordenadas LAT e LONG da grade de pontos\n",
    "# a dimensao padrao dos pontos eh 34 x 139 x 129 (tempo, lat, long);\n",
    "# como sao muitos pontos para a area, reduziremos para 1/3 do total de pontos.\n",
    "# obs: - tempo = 0\n",
    "#      - 126 eh o maior valor divisivel por 3 de 129\n",
    "#      - dimensao final: 46 x 42\n",
    "\n",
    "# max_lat_index = 138\n",
    "# max_lng_index = 126\n",
    "# mdc = 6\n",
    "\n",
    "# max_lat_index = 136\n",
    "# max_lng_index = 128\n",
    "# mdc = 8\n",
    "\n",
    "# max_lat_index = 120\n",
    "# max_lng_index = 120\n",
    "# mdc = 40\n",
    "\n",
    "# var_aux = np.take(dataset.variables['U10'][0], [i for i in range(0, max_lat_index+1, mdc)], axis=0)\n",
    "# var_u = np.take(var_aux, [i for i in range(0, max_lng_index+1, mdc)], axis=1)\n",
    "\n",
    "# var_aux = np.take(dataset.variables['V10'][0], [i for i in range(0, max_lat_index+1, mdc)], axis=0)\n",
    "# var_v = np.take(var_aux, [i for i in range(0, max_lng_index+1, mdc)], axis=1)\n",
    "\n",
    "# var_aux = np.take(dataset.variables['XLAT'][0], [i for i in range(0, max_lat_index+1, mdc)], axis=0)\n",
    "# var_lats = np.take(var_aux, [i for i in range(0, max_lng_index+1, mdc)], axis=1)\n",
    "\n",
    "# var_aux = np.take(dataset.variables['XLONG'][0], [i for i in range(0, max_lat_index+1, mdc)], axis=0)\n",
    "# var_longs = np.take(var_aux, [i for i in range(0, max_lng_index+1, mdc)], axis=1)"
   ]
  },
  {
   "cell_type": "code",
   "execution_count": 18,
   "metadata": {},
   "outputs": [],
   "source": [
    "var_u = dataset.variables['U10'][0]\n",
    "var_v = dataset.variables['V10'][0]\n",
    "var_lats = dataset.variables['XLAT'][0]\n",
    "var_longs = dataset.variables['XLONG'][0]"
   ]
  },
  {
   "cell_type": "code",
   "execution_count": 19,
   "metadata": {
    "scrolled": true
   },
   "outputs": [
    {
     "data": {
      "text/plain": [
       "16"
      ]
     },
     "execution_count": 19,
     "metadata": {},
     "output_type": "execute_result"
    }
   ],
   "source": [
    "var_u.size"
   ]
  },
  {
   "cell_type": "code",
   "execution_count": 20,
   "metadata": {},
   "outputs": [
    {
     "name": "stdout",
     "output_type": "stream",
     "text": [
      "LAT min/max: -17.3173828125 / -34.680599212646484\n"
     ]
    }
   ],
   "source": [
    "# Obtem os valores min e max da latitude\n",
    "max_lat = var_lats[0][0]\n",
    "min_lat = var_lats[len(var_lats[0])-1][0]\n",
    "print('LAT min/max: {} / {}'.format(min_lat, max_lat))"
   ]
  },
  {
   "cell_type": "code",
   "execution_count": 21,
   "metadata": {},
   "outputs": [
    {
     "name": "stdout",
     "output_type": "stream",
     "text": [
      "LONG min/max: -40.103416442871094 / -59.53180694580078\n"
     ]
    }
   ],
   "source": [
    "# Obtem os valores min e max da longitude\n",
    "max_long = var_longs[0][0]\n",
    "min_long = var_longs[0][len(var_longs[0])-1]\n",
    "print('LONG min/max: {} / {}'.format(min_long, max_long))"
   ]
  },
  {
   "cell_type": "code",
   "execution_count": 22,
   "metadata": {},
   "outputs": [
    {
     "name": "stdout",
     "output_type": "stream",
     "text": [
      "Top-Left: -17.3173828125 , -59.53180694580078\n"
     ]
    }
   ],
   "source": [
    "# os pontos superior-esquerdo (TL) e inferior-direito (BR) da grade de pontos\n",
    "tl_lat = float(min_lat)\n",
    "tl_long = float(max_long)\n",
    "print('Top-Left: {} , {}'.format(tl_lat, tl_long))"
   ]
  },
  {
   "cell_type": "code",
   "execution_count": 23,
   "metadata": {},
   "outputs": [
    {
     "name": "stdout",
     "output_type": "stream",
     "text": [
      "Bottom-Right: -34.680599212646484 , -40.103416442871094\n"
     ]
    }
   ],
   "source": [
    "br_lat = float(max_lat)\n",
    "br_long = float(min_long)\n",
    "print('Bottom-Right: {} , {}'.format(br_lat, br_long))"
   ]
  },
  {
   "cell_type": "code",
   "execution_count": 24,
   "metadata": {},
   "outputs": [
    {
     "data": {
      "text/plain": [
       "4.340804100036621"
      ]
     },
     "execution_count": 24,
     "metadata": {},
     "output_type": "execute_result"
    }
   ],
   "source": [
    "# variaveis de cabecalho para VENTO\n",
    "nx = var_u.shape[0]\n",
    "ny = var_u.shape[1]\n",
    "dx = abs(max_lat - min_lat) / nx\n",
    "dy = abs(max_long - min_long) / ny\n",
    "tot = nx * ny\n",
    "dx"
   ]
  },
  {
   "cell_type": "code",
   "execution_count": 25,
   "metadata": {},
   "outputs": [
    {
     "data": {
      "text/plain": [
       "4"
      ]
     },
     "execution_count": 25,
     "metadata": {},
     "output_type": "execute_result"
    }
   ],
   "source": [
    "nx"
   ]
  },
  {
   "cell_type": "code",
   "execution_count": 26,
   "metadata": {},
   "outputs": [],
   "source": [
    "# dados do componente U do vento\n",
    "a = var_u\n",
    "A = np.matrix(a)\n",
    "b = A.flatten()\n",
    "c = np.ravel(b).T\n",
    "u_data = c.tolist()"
   ]
  },
  {
   "cell_type": "code",
   "execution_count": 27,
   "metadata": {},
   "outputs": [],
   "source": [
    "# dados do componente V do vento\n",
    "a = var_v\n",
    "A = np.matrix(a)\n",
    "b = A.flatten()\n",
    "c = np.ravel(b).T\n",
    "v_data = c.tolist()"
   ]
  },
  {
   "cell_type": "code",
   "execution_count": 28,
   "metadata": {},
   "outputs": [
    {
     "data": {
      "text/plain": [
       "'2020-10-13 12:00:00'"
      ]
     },
     "execution_count": 28,
     "metadata": {},
     "output_type": "execute_result"
    }
   ],
   "source": [
    "# obtem a data/hora de referencia do dataset\n",
    "data_hora = dataset.START_DATE.replace('_', ' ')\n",
    "data_hora"
   ]
  },
  {
   "cell_type": "code",
   "execution_count": 29,
   "metadata": {},
   "outputs": [],
   "source": [
    "# formato JSON para VENTO (padrao leaflet-velocity)\n",
    "wind_data = [{\n",
    "  \"header\": {\n",
    "    \"parameterNumberName\": \"eastward_wind\",\n",
    "    \"parameterUnit\": \"m.s-1\",\n",
    "    \"parameterNumber\": 2,\n",
    "    \"parameterCategory\": 2,\n",
    "    \"nx\": nx,\n",
    "    \"ny\": ny,\n",
    "    \"numberPoints\": tot,\n",
    "    \"dx\": dx,\n",
    "    \"dy\": dy,\n",
    "    \"la1\": tl_lat,\n",
    "    \"lo1\": tl_long,\n",
    "    \"la2\": br_lat,\n",
    "    \"lo2\": br_long,\n",
    "    \"refTime\": data_hora\n",
    "  },\n",
    "  \"data\": u_data\n",
    "}, {\n",
    "  \"header\": {\n",
    "    \"parameterNumberName\": \"northward_wind\",\n",
    "    \"parameterUnit\": \"m.s-1\",\n",
    "    \"parameterNumber\": 3,\n",
    "    \"parameterCategory\": 2,\n",
    "    \"nx\": nx,\n",
    "    \"ny\": ny,\n",
    "    \"numberPoints\": tot,\n",
    "    \"dx\": dx,\n",
    "    \"dy\": dy,\n",
    "    \"la1\": tl_lat,\n",
    "    \"lo1\": tl_long,\n",
    "    \"la2\": br_lat,\n",
    "    \"lo2\": br_long,\n",
    "    \"refTime\": data_hora\n",
    "  },\n",
    "  \"data\": v_data\n",
    "}]"
   ]
  },
  {
   "cell_type": "code",
   "execution_count": 30,
   "metadata": {},
   "outputs": [],
   "source": [
    "# exporta para o arquivo JSON no padrao esperado pelo Leaflet (leaflet-velocity)\n",
    "with open('wind.json', 'w') as outfile:  \n",
    "    json.dump(wind_data, outfile, separators=(',', ':'))"
   ]
  },
  {
   "cell_type": "code",
   "execution_count": null,
   "metadata": {},
   "outputs": [],
   "source": []
  },
  {
   "cell_type": "code",
   "execution_count": 22,
   "metadata": {},
   "outputs": [
    {
     "ename": "NameError",
     "evalue": "name 'lats' is not defined",
     "output_type": "error",
     "traceback": [
      "\u001b[0;31m---------------------------------------------------------------------------\u001b[0m",
      "\u001b[0;31mNameError\u001b[0m                                 Traceback (most recent call last)",
      "\u001b[0;32m<ipython-input-22-fc398e52ee39>\u001b[0m in \u001b[0;36m<module>\u001b[0;34m\u001b[0m\n\u001b[1;32m      2\u001b[0m \u001b[0;31m# temp is scaled from Kelvin to 0-1 with range 200K to 350K\u001b[0m\u001b[0;34m\u001b[0m\u001b[0;34m\u001b[0m\u001b[0;34m\u001b[0m\u001b[0m\n\u001b[1;32m      3\u001b[0m \u001b[0;31m# USER can edit display options\u001b[0m\u001b[0;34m\u001b[0m\u001b[0;34m\u001b[0m\u001b[0;34m\u001b[0m\u001b[0m\n\u001b[0;32m----> 4\u001b[0;31m \u001b[0mtemp_data\u001b[0m \u001b[0;34m=\u001b[0m \u001b[0;34m[\u001b[0m\u001b[0;34m[\u001b[0m\u001b[0;36m0\u001b[0m\u001b[0;34m,\u001b[0m\u001b[0;36m0\u001b[0m\u001b[0;34m,\u001b[0m\u001b[0;36m0\u001b[0m\u001b[0;34m]\u001b[0m \u001b[0;32mfor\u001b[0m \u001b[0mi\u001b[0m \u001b[0;32min\u001b[0m \u001b[0mrange\u001b[0m\u001b[0;34m(\u001b[0m\u001b[0mlen\u001b[0m\u001b[0;34m(\u001b[0m\u001b[0mlats\u001b[0m\u001b[0;34m)\u001b[0m \u001b[0;34m*\u001b[0m \u001b[0mlen\u001b[0m\u001b[0;34m(\u001b[0m\u001b[0mlons\u001b[0m\u001b[0;34m)\u001b[0m\u001b[0;34m)\u001b[0m\u001b[0;34m]\u001b[0m\u001b[0;34m\u001b[0m\u001b[0;34m\u001b[0m\u001b[0m\n\u001b[0m\u001b[1;32m      5\u001b[0m \u001b[0;32mfor\u001b[0m \u001b[0mi\u001b[0m \u001b[0;32min\u001b[0m \u001b[0mrange\u001b[0m\u001b[0;34m(\u001b[0m\u001b[0mlen\u001b[0m\u001b[0;34m(\u001b[0m\u001b[0mlats\u001b[0m\u001b[0;34m)\u001b[0m\u001b[0;34m)\u001b[0m\u001b[0;34m:\u001b[0m\u001b[0;34m\u001b[0m\u001b[0;34m\u001b[0m\u001b[0m\n\u001b[1;32m      6\u001b[0m     \u001b[0;32mfor\u001b[0m \u001b[0mj\u001b[0m \u001b[0;32min\u001b[0m \u001b[0mrange\u001b[0m\u001b[0;34m(\u001b[0m\u001b[0mlen\u001b[0m\u001b[0;34m(\u001b[0m\u001b[0mlons\u001b[0m\u001b[0;34m)\u001b[0m\u001b[0;34m)\u001b[0m\u001b[0;34m:\u001b[0m\u001b[0;34m\u001b[0m\u001b[0;34m\u001b[0m\u001b[0m\n",
      "\u001b[0;31mNameError\u001b[0m: name 'lats' is not defined"
     ]
    }
   ],
   "source": [
    "### loop through and create array\n",
    "# temp is scaled from Kelvin to 0-1 with range 200K to 350K\n",
    "# USER can edit display options\n",
    "temp_data = [[0,0,0] for i in range(len(lats) * len(lons))]\n",
    "for i in range(len(lats)):\n",
    "    for j in range(len(lons)):\n",
    "        temp_data[j + (i * len(lons))][0] = lats[i]\n",
    "        temp_data[j + (i * len(lons))][1] = lons[j]\n",
    "        temp_data[j + (i * len(lons))][2] = (temps[i,j] - 273.15) # + 273.15 for K\n",
    "        #temp_data[j + (i * len(lons))][2] = str((temps[i,j] - 200)/150) if string is necessary"
   ]
  },
  {
   "cell_type": "code",
   "execution_count": null,
   "metadata": {},
   "outputs": [],
   "source": [
    "# apply non-overlapping moving window average to reduce data size by factor of 144 \n",
    "# USER can edit grouping parameter\n",
    "# number of points should not be more than several hundred for best performance\n",
    "group = 12\n",
    "lats_sm = lats.reshape(-1, group).mean(axis=1)\n",
    "lons_sm = lons.reshape(-1, group).mean(axis=1)"
   ]
  },
  {
   "cell_type": "code",
   "execution_count": null,
   "metadata": {},
   "outputs": [],
   "source": [
    "# create new smaller temperature array \n",
    "temp_array = [[0] for i in range(len(lats) * len(lons))]\n",
    "for i in range(len(temp_data)):\n",
    "    temp_array[i] = temp_data[i][2]\n",
    "temps_sm = np.array(temp_array).reshape(-1, group * group).mean(axis=1)"
   ]
  },
  {
   "cell_type": "code",
   "execution_count": null,
   "metadata": {},
   "outputs": [],
   "source": [
    "# reformat array to [lat, lon, temp]\n",
    "temp_data_sm = [[0,0,0] for i in range(len(lats_sm) * len(lons_sm))]\n",
    "for i in range(len(lats_sm)):\n",
    "    for j in range(len(lons_sm)):\n",
    "        temp_data_sm[j + (i * len(lons_sm))][0] = lats_sm[i]\n",
    "        temp_data_sm[j + (i * len(lons_sm))][1] = lons_sm[j] -180\n",
    "        temp_data_sm[j + (i * len(lons_sm))][2] = temps_sm[j + (i * len(lons_sm))] + 40"
   ]
  },
  {
   "cell_type": "code",
   "execution_count": null,
   "metadata": {},
   "outputs": [],
   "source": [
    "# write Javascript file for Leaflet.idw input\n",
    "with open('temps_sm.js', 'w') as filehandle:  \n",
    "    filehandle.write('var addressPoints = ' + str(temp_data_sm))"
   ]
  },
  {
   "cell_type": "code",
   "execution_count": null,
   "metadata": {},
   "outputs": [],
   "source": [
    "import pandas as pd\n",
    "df = pd.read_json(\"wind.json\")\n",
    "df"
   ]
  },
  {
   "cell_type": "code",
   "execution_count": null,
   "metadata": {},
   "outputs": [],
   "source": []
  }
 ],
 "metadata": {
  "kernelspec": {
   "display_name": "Python 3",
   "language": "python",
   "name": "python3"
  },
  "language_info": {
   "codemirror_mode": {
    "name": "ipython",
    "version": 3
   },
   "file_extension": ".py",
   "mimetype": "text/x-python",
   "name": "python",
   "nbconvert_exporter": "python",
   "pygments_lexer": "ipython3",
   "version": "3.8.5"
  }
 },
 "nbformat": 4,
 "nbformat_minor": 2
}
