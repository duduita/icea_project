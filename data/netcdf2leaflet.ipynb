{
 "cells": [
  {
   "cell_type": "code",
   "execution_count": 1,
   "metadata": {},
   "outputs": [],
   "source": [
    "from netCDF4 import Dataset, num2date\n",
    "import numpy as np\n",
    "import json"
   ]
  },
  {
   "cell_type": "code",
   "execution_count": 2,
   "metadata": {},
   "outputs": [],
   "source": [
    "# import data\n",
    "dataset = Dataset('model.nc')"
   ]
  },
  {
   "cell_type": "code",
   "execution_count": 3,
   "metadata": {},
   "outputs": [
    {
     "name": "stdout",
     "output_type": "stream",
     "text": [
      "dict_keys(['Time', 'DateStrLen', 'west_east', 'south_north', 'bottom_top', 'bottom_top_stag', 'soil_layers_stag', 'west_east_stag', 'south_north_stag', 'seed_dim_stag'])\n"
     ]
    }
   ],
   "source": [
    "# interrogate dimensions\n",
    "print(dataset.dimensions.keys())"
   ]
  },
  {
   "cell_type": "code",
   "execution_count": 6,
   "metadata": {},
   "outputs": [
    {
     "name": "stdout",
     "output_type": "stream",
     "text": [
      "<class 'netCDF4._netCDF4.Variable'>\n",
      "float32 U10(Time, south_north, west_east)\n",
      "    FieldType: 104\n",
      "    MemoryOrder: XY \n",
      "    description: U at 10 M\n",
      "    units: m s-1\n",
      "    stagger: \n",
      "    coordinates: XLONG XLAT XTIME\n",
      "unlimited dimensions: Time\n",
      "current shape = (34, 139, 129)\n",
      "filling on, default _FillValue of 9.969209968386869e+36 used\n"
     ]
    }
   ],
   "source": [
    "# interrogate variable structure\n",
    "print(dataset.variables['U10'])"
   ]
  },
  {
   "cell_type": "code",
   "execution_count": 7,
   "metadata": {},
   "outputs": [
    {
     "name": "stdout",
     "output_type": "stream",
     "text": [
      "Check variables:\n",
      "dict_keys(['Times', 'XLAT', 'XLONG', 'LU_INDEX', 'ZNU', 'ZNW', 'ZS', 'DZS', 'VAR_SSO', 'U', 'V', 'W', 'PH', 'PHB', 'T', 'THM', 'HFX_FORCE', 'LH_FORCE', 'TSK_FORCE', 'HFX_FORCE_TEND', 'LH_FORCE_TEND', 'TSK_FORCE_TEND', 'MU', 'MUB', 'NEST_POS', 'P', 'PB', 'FNM', 'FNP', 'RDNW', 'RDN', 'DNW', 'DN', 'CFN', 'CFN1', 'THIS_IS_AN_IDEAL_RUN', 'P_HYD', 'Q2', 'T2', 'TH2', 'PSFC', 'U10', 'V10', 'RDX', 'RDY', 'RESM', 'ZETATOP', 'CF1', 'CF2', 'CF3', 'ITIMESTEP', 'XTIME', 'QVAPOR', 'QCLOUD', 'QRAIN', 'QICE', 'QSNOW', 'QGRAUP', 'RE_CLOUD_GSFC', 'RE_RAIN_GSFC', 'RE_ICE_GSFC', 'RE_SNOW_GSFC', 'RE_GRAUPEL_GSFC', 'RE_HAIL_GSFC', 'QNICE', 'QNSNOW', 'QNRAIN', 'QNGRAUPEL', 'SHDMAX', 'SHDMIN', 'SNOALB', 'TSLB', 'SMOIS', 'SH2O', 'SMCREL', 'SEAICE', 'XICEM', 'SFROFF', 'UDROFF', 'IVGTYP', 'ISLTYP', 'VEGFRA', 'GRDFLX', 'ACGRDFLX', 'ACSNOM', 'SNOW', 'SNOWH', 'CANWAT', 'SSTSK', 'COSZEN', 'LAI', 'VAR', 'MAPFAC_M', 'MAPFAC_U', 'MAPFAC_V', 'MAPFAC_MX', 'MAPFAC_MY', 'MAPFAC_UX', 'MAPFAC_UY', 'MAPFAC_VX', 'MF_VX_INV', 'MAPFAC_VY', 'F', 'E', 'SINALPHA', 'COSALPHA', 'HGT', 'TSK', 'P_TOP', 'T00', 'P00', 'TLP', 'TISO', 'TLP_STRAT', 'P_STRAT', 'MAX_MSTFX', 'MAX_MSTFY', 'TLWDN', 'TLWUP', 'SLWDN', 'SLWUP', 'TSWDN', 'TSWUP', 'SSWDN', 'SSWUP', 'COD2D_OUT', 'CTOP2D_OUT', 'RAINC', 'RAINSH', 'RAINNC', 'SNOWNC', 'GRAUPELNC', 'HAILNC', 'CLDFRA', 'SWDOWN', 'GLW', 'SWNORM', 'OLR', 'XLAT_U', 'XLONG_U', 'XLAT_V', 'XLONG_V', 'ALBEDO', 'CLAT', 'ALBBCK', 'EMISS', 'NOAHRES', 'TMN', 'XLAND', 'UST', 'PBLH', 'HFX', 'QFX', 'LH', 'ACHFX', 'ACLHF', 'SNOWC', 'SR', 'SAVE_TOPO_FROM_REAL', 'ISEEDARR_SPPT', 'ISEEDARR_SKEBS', 'ISEEDARR_RAND_PERTURB', 'ISEEDARRAY_SPP_CONV', 'ISEEDARRAY_SPP_PBL', 'ISEEDARRAY_SPP_LSM', 'C1H', 'C2H', 'C1F', 'C2F', 'C3H', 'C4H', 'C3F', 'C4F', 'PCB', 'PC', 'LANDMASK', 'LAKEMASK', 'SST', 'SST_INPUT'])\n"
     ]
    }
   ],
   "source": [
    "# interrogate variables\n",
    "# find the u and v wind data\n",
    "print(\"Check variables:\")\n",
    "print(dataset.variables.keys())"
   ]
  },
  {
   "cell_type": "code",
   "execution_count": 168,
   "metadata": {},
   "outputs": [],
   "source": [
    "# USER input names for u and v wind variables\n",
    "u_var = 'U10'\n",
    "v_var = 'V10'"
   ]
  },
  {
   "cell_type": "code",
   "execution_count": 169,
   "metadata": {},
   "outputs": [
    {
     "name": "stdout",
     "output_type": "stream",
     "text": [
      "Check units:\n",
      "m s-1\n"
     ]
    }
   ],
   "source": [
    "print(\"Check units:\")\n",
    "print(dataset.variables[u_var].units)"
   ]
  },
  {
   "cell_type": "code",
   "execution_count": 170,
   "metadata": {},
   "outputs": [
    {
     "name": "stdout",
     "output_type": "stream",
     "text": [
      "Check dimensions:\n",
      "('Time', 'south_north', 'west_east') (34, 139, 129)\n"
     ]
    }
   ],
   "source": [
    "print(\"Check dimensions:\")\n",
    "print(dataset.variables[u_var].dimensions, dataset.variables[u_var].shape)"
   ]
  },
  {
   "cell_type": "code",
   "execution_count": 171,
   "metadata": {},
   "outputs": [],
   "source": [
    "var_u = dataset.variables['U10'][0]\n",
    "var_v = dataset.variables['V10'][0]\n",
    "var_lats = dataset.variables['XLAT'][0]\n",
    "var_longs = dataset.variables['XLONG'][0]"
   ]
  },
  {
   "cell_type": "code",
   "execution_count": 172,
   "metadata": {},
   "outputs": [
    {
     "name": "stdout",
     "output_type": "stream",
     "text": [
      "LAT min/max: -16.076797485351562 / -34.680599212646484\n"
     ]
    }
   ],
   "source": [
    "# Obtem os valores min e max da latitude\n",
    "max_lat = var_lats[0][0]\n",
    "min_lat = var_lats[len(var_lats[0])-1][0]\n",
    "print('LAT min/max: {} / {}'.format(min_lat, max_lat))"
   ]
  },
  {
   "cell_type": "code",
   "execution_count": 173,
   "metadata": {},
   "outputs": [
    {
     "name": "stdout",
     "output_type": "stream",
     "text": [
      "LONG min/max: -38.808189392089844 / -59.53180694580078\n"
     ]
    }
   ],
   "source": [
    "# obtain max and min long values\n",
    "max_long = var_longs[0][0]\n",
    "min_long = var_longs[0][len(var_longs[0])-1]\n",
    "print('LONG min/max: {} / {}'.format(min_long, max_long))"
   ]
  },
  {
   "cell_type": "code",
   "execution_count": 174,
   "metadata": {},
   "outputs": [
    {
     "name": "stdout",
     "output_type": "stream",
     "text": [
      "Top-Left: -16.076797485351562 , -59.53180694580078\n"
     ]
    }
   ],
   "source": [
    "# os pontos superior-esquerdo (TL) e inferior-direito (BR) da grade de pontos\n",
    "tl_lat = float(min_lat)\n",
    "tl_long = float(max_long)\n",
    "print('Top-Left: {} , {}'.format(tl_lat, tl_long))"
   ]
  },
  {
   "cell_type": "code",
   "execution_count": 175,
   "metadata": {},
   "outputs": [
    {
     "name": "stdout",
     "output_type": "stream",
     "text": [
      "Bottom-Right: -34.680599212646484 , -38.808189392089844\n"
     ]
    }
   ],
   "source": [
    "br_lat = float(max_lat)\n",
    "br_long = float(min_long)\n",
    "print('Bottom-Right: {} , {}'.format(br_lat, br_long))"
   ]
  },
  {
   "cell_type": "code",
   "execution_count": 176,
   "metadata": {},
   "outputs": [
    {
     "data": {
      "text/plain": [
       "0.13384030019636634"
      ]
     },
     "execution_count": 176,
     "metadata": {},
     "output_type": "execute_result"
    }
   ],
   "source": [
    "# set header variables for wind\n",
    "nx = var_u.shape[0]\n",
    "ny = var_u.shape[1]\n",
    "dx = abs(max_lat - min_lat) / nx\n",
    "dy = abs(max_long - min_long) / ny\n",
    "tot = nx * ny\n",
    "dx"
   ]
  },
  {
   "cell_type": "code",
   "execution_count": 177,
   "metadata": {},
   "outputs": [],
   "source": [
    "# get data for u wind\n",
    "a = dataset.variables[u_var][:][0]\n",
    "A = np.matrix(a)\n",
    "b = A.flatten()\n",
    "c = np.ravel(b).T\n",
    "u_data = c.tolist()"
   ]
  },
  {
   "cell_type": "code",
   "execution_count": 178,
   "metadata": {},
   "outputs": [],
   "source": [
    "# get data for v wind\n",
    "a = dataset.variables[v_var][:][0]\n",
    "A = np.matrix(a)\n",
    "b = A.flatten()\n",
    "c = np.ravel(b).T\n",
    "v_data = c.tolist()"
   ]
  },
  {
   "cell_type": "code",
   "execution_count": 179,
   "metadata": {},
   "outputs": [],
   "source": [
    "# format JSON\n",
    "wind_data = [{\n",
    "  \"header\": {\n",
    "    \"parameterNumberName\": \"eastward_wind\",\n",
    "    \"parameterUnit\": \"m.s-1\",\n",
    "    \"parameterNumber\": 2,\n",
    "    \"parameterCategory\": 2,\n",
    "    \"nx\": nx,\n",
    "    \"ny\": ny,\n",
    "    \"numberPoints\": tot,\n",
    "    \"dx\": dx,\n",
    "    \"dy\": dy,\n",
    "    \"la1\": tl_lat,\n",
    "    \"lo1\": tl_long,\n",
    "    \"la2\": br_lat,\n",
    "    \"lo2\": br_long,\n",
    "    \"refTime\": \"2017-02-01 23:00:00\"\n",
    "  },\n",
    "  \"data\": u_data\n",
    "}, {\n",
    "  \"header\": {\n",
    "    \"parameterNumberName\": \"northward_wind\",\n",
    "    \"parameterUnit\": \"m.s-1\",\n",
    "    \"parameterNumber\": 3,\n",
    "    \"parameterCategory\": 2,\n",
    "    \"nx\": nx,\n",
    "    \"ny\": ny,\n",
    "    \"numberPoints\": tot,\n",
    "    \"dx\": dx,\n",
    "    \"dy\": dy,\n",
    "    \"la1\": tl_lat,\n",
    "    \"lo1\": tl_long,\n",
    "    \"la2\": br_lat,\n",
    "    \"lo2\": br_long,\n",
    "    \"refTime\": \"2017-02-01 23:00:00\"\n",
    "  },\n",
    "  \"data\": v_data\n",
    "}]"
   ]
  },
  {
   "cell_type": "code",
   "execution_count": 180,
   "metadata": {},
   "outputs": [],
   "source": [
    "# write JSON for leaflet-velocity input\n",
    "with open('wind.json', 'w') as outfile:  \n",
    "    json.dump(wind_data, outfile, separators=(',', ':'))"
   ]
  },
  {
   "cell_type": "code",
   "execution_count": 45,
   "metadata": {},
   "outputs": [
    {
     "ename": "KeyError",
     "evalue": "'tsurf'",
     "output_type": "error",
     "traceback": [
      "\u001b[0;31m---------------------------------------------------------------------------\u001b[0m",
      "\u001b[0;31mKeyError\u001b[0m                                  Traceback (most recent call last)",
      "\u001b[0;32m<ipython-input-45-6fb1a9251f96>\u001b[0m in \u001b[0;36m<module>\u001b[0;34m\u001b[0m\n\u001b[1;32m      1\u001b[0m \u001b[0;31m# get data for temp from netCDF\u001b[0m\u001b[0;34m\u001b[0m\u001b[0;34m\u001b[0m\u001b[0;34m\u001b[0m\u001b[0m\n\u001b[0;32m----> 2\u001b[0;31m \u001b[0mtemps\u001b[0m \u001b[0;34m=\u001b[0m \u001b[0mdataset\u001b[0m\u001b[0;34m.\u001b[0m\u001b[0mvariables\u001b[0m\u001b[0;34m[\u001b[0m\u001b[0mtemp_var\u001b[0m\u001b[0;34m]\u001b[0m\u001b[0;34m[\u001b[0m\u001b[0;34m:\u001b[0m\u001b[0;34m]\u001b[0m\u001b[0;34m[\u001b[0m\u001b[0;36m0\u001b[0m\u001b[0;34m]\u001b[0m\u001b[0;34m\u001b[0m\u001b[0;34m\u001b[0m\u001b[0m\n\u001b[0m",
      "\u001b[0;31mKeyError\u001b[0m: 'tsurf'"
     ]
    }
   ],
   "source": [
    "# get data for temp from netCDF\n",
    "temps = dataset.variables[temp_var][:][0]"
   ]
  },
  {
   "cell_type": "code",
   "execution_count": 28,
   "metadata": {},
   "outputs": [],
   "source": [
    "# get data for lat and lon\n",
    "lats = dataset.variables['lat'][:]\n",
    "lons = dataset.variables['lon'][:]"
   ]
  },
  {
   "cell_type": "code",
   "execution_count": 29,
   "metadata": {
    "scrolled": false
   },
   "outputs": [],
   "source": [
    "# loop through and create array\n",
    "# temp is scaled from Kelvin to 0-1 with range 200K to 350K\n",
    "# USER can edit display options\n",
    "temp_data = [[0,0,0] for i in range(len(lats) * len(lons))]\n",
    "for i in range(len(lats)):\n",
    "    for j in range(len(lons)):\n",
    "        temp_data[j + (i * len(lons))][0] = lats[i]\n",
    "        temp_data[j + (i * len(lons))][1] = lons[j]\n",
    "        temp_data[j + (i * len(lons))][2] = (temps[i,j] - 273.15) # + 273.15 for K\n",
    "        #temp_data[j + (i * len(lons))][2] = str((temps[i,j] - 200)/150) if string is necessary"
   ]
  },
  {
   "cell_type": "code",
   "execution_count": 32,
   "metadata": {},
   "outputs": [],
   "source": [
    "# apply non-overlapping moving window average to reduce data size by factor of 144 \n",
    "# USER can edit grouping parameter\n",
    "# number of points should not be more than several hundred for best performance\n",
    "group = 12\n",
    "lats_sm = lats.reshape(-1, group).mean(axis=1)\n",
    "lons_sm = lons.reshape(-1, group).mean(axis=1)"
   ]
  },
  {
   "cell_type": "code",
   "execution_count": 33,
   "metadata": {},
   "outputs": [],
   "source": [
    "# create new smaller temperature array \n",
    "temp_array = [[0] for i in range(len(lats) * len(lons))]\n",
    "for i in range(len(temp_data)):\n",
    "    temp_array[i] = temp_data[i][2]\n",
    "temps_sm = np.array(temp_array).reshape(-1, group * group).mean(axis=1)"
   ]
  },
  {
   "cell_type": "code",
   "execution_count": 35,
   "metadata": {},
   "outputs": [],
   "source": [
    "# reformat array to [lat, lon, temp]\n",
    "temp_data_sm = [[0,0,0] for i in range(len(lats_sm) * len(lons_sm))]\n",
    "for i in range(len(lats_sm)):\n",
    "    for j in range(len(lons_sm)):\n",
    "        temp_data_sm[j + (i * len(lons_sm))][0] = lats_sm[i]\n",
    "        temp_data_sm[j + (i * len(lons_sm))][1] = lons_sm[j] -180\n",
    "        temp_data_sm[j + (i * len(lons_sm))][2] = temps_sm[j + (i * len(lons_sm))] + 40"
   ]
  },
  {
   "cell_type": "code",
   "execution_count": 36,
   "metadata": {},
   "outputs": [],
   "source": [
    "# write Javascript file for Leaflet.idw input\n",
    "with open('temps_sm.js', 'w') as filehandle:  \n",
    "    filehandle.write('var addressPoints = ' + str(temp_data_sm))"
   ]
  }
 ],
 "metadata": {
  "kernelspec": {
   "display_name": "Python 3",
   "language": "python",
   "name": "python3"
  },
  "language_info": {
   "codemirror_mode": {
    "name": "ipython",
    "version": 3
   },
   "file_extension": ".py",
   "mimetype": "text/x-python",
   "name": "python",
   "nbconvert_exporter": "python",
   "pygments_lexer": "ipython3",
   "version": "3.8.5"
  }
 },
 "nbformat": 4,
 "nbformat_minor": 2
}
